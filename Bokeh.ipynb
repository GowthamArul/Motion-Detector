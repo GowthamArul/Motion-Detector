{
 "cells": [
  {
   "cell_type": "code",
   "execution_count": 5,
   "id": "b9792d69",
   "metadata": {},
   "outputs": [],
   "source": [
    "# Libraries\n",
    "from bokeh.plotting import figure\n",
    "from bokeh.io import output_file, show"
   ]
  },
  {
   "cell_type": "code",
   "execution_count": 6,
   "id": "dca1e412",
   "metadata": {},
   "outputs": [],
   "source": [
    "# Inputs\n",
    "x=[1,2,3,4,5]\n",
    "y=[6,7,8,9,10]"
   ]
  },
  {
   "cell_type": "code",
   "execution_count": 9,
   "id": "2c09774c",
   "metadata": {},
   "outputs": [],
   "source": [
    "# Line Graph\n",
    "output_file(\"Line.html\")\n",
    "f=figure()\n",
    "f.line(x,y)\n",
    "show(f)"
   ]
  },
  {
   "cell_type": "code",
   "execution_count": 11,
   "id": "8548f972",
   "metadata": {},
   "outputs": [],
   "source": [
    "# Triangle Graph\n",
    "output_file(\"Line.html\")\n",
    "f=figure()\n",
    "f.triangle(x,y)\n",
    "show(f)"
   ]
  },
  {
   "cell_type": "code",
   "execution_count": null,
   "id": "1ffffd15",
   "metadata": {},
   "outputs": [],
   "source": [
    "# Circle Graph\n",
    "output_file(\"Line.html\")\n",
    "f=figure()\n",
    "f.circle(x,y)\n",
    "show(f)"
   ]
  }
 ],
 "metadata": {
  "kernelspec": {
   "display_name": "Python 3",
   "language": "python",
   "name": "python3"
  },
  "language_info": {
   "codemirror_mode": {
    "name": "ipython",
    "version": 3
   },
   "file_extension": ".py",
   "mimetype": "text/x-python",
   "name": "python",
   "nbconvert_exporter": "python",
   "pygments_lexer": "ipython3",
   "version": "3.8.5"
  }
 },
 "nbformat": 4,
 "nbformat_minor": 5
}
